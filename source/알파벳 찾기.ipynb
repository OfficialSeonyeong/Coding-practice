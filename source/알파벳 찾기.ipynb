{
 "cells": [
  {
   "cell_type": "code",
   "execution_count": null,
   "metadata": {},
   "outputs": [],
   "source": [
    "S = input()\n",
    "        \n",
    "check = False \n",
    "\n",
    "for i in range(97,123):\n",
    "    for idx in range(len(S)):\n",
    "        if S[idx] == chr(i):\n",
    "            check = True\n",
    "            print(idx)\n",
    "            break\n",
    "            if check == False:\n",
    "                print('-1')"
   ]
  },
  {
   "cell_type": "code",
   "execution_count": null,
   "metadata": {},
   "outputs": [],
   "source": [
    "for idx in range(len(S)):\n",
    "    for i in range(97,123):\n",
    "        if S[idx] == chr(i):\n",
    "            print(idx)\n",
    "            break"
   ]
  }
 ],
 "metadata": {
  "kernelspec": {
   "display_name": "Python 3",
   "language": "python",
   "name": "python3"
  },
  "language_info": {
   "codemirror_mode": {
    "name": "ipython",
    "version": 3
   },
   "file_extension": ".py",
   "mimetype": "text/x-python",
   "name": "python",
   "nbconvert_exporter": "python",
   "pygments_lexer": "ipython3",
   "version": "3.7.6"
  }
 },
 "nbformat": 4,
 "nbformat_minor": 4
}
